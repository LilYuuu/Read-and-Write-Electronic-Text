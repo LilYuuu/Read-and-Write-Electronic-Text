{
 "cells": [
  {
   "cell_type": "markdown",
   "id": "53ce77df",
   "metadata": {},
   "source": [
    "# RWET: Week 7 - Digital Cut-ups Revisit (Attempt 1)"
   ]
  },
  {
   "cell_type": "markdown",
   "id": "0850bfb8",
   "metadata": {},
   "source": [
    "This assignment is a continuation of the assignment from Week 3, which was inspired by Jen Hofer's [Front Page News](http://www.alligatorzine.be/pages/101/zine115.html).\n",
    "\n",
    "I scraped the titles of top stories from New York Time's home page and generated randomized cut-ups from them.\n",
    "\n",
    "In this first attempt, I used SpaCy to deconstruct the news titles based on syntactic structures and shuffled the phrases to remake the titles. "
   ]
  },
  {
   "cell_type": "code",
   "execution_count": 1,
   "id": "c1fb805e",
   "metadata": {},
   "outputs": [],
   "source": [
    "import requests as req\n",
    "import time\n",
    "API_KEY=''"
   ]
  },
  {
   "cell_type": "code",
   "execution_count": 2,
   "id": "5e7d1ed1",
   "metadata": {},
   "outputs": [],
   "source": [
    "url= \"https://api.nytimes.com/svc/topstories/v2/home.json?api-key=\"+ API_KEY\n",
    "response = req.get(url).json()"
   ]
  },
  {
   "cell_type": "code",
   "execution_count": 3,
   "id": "c2d0813e",
   "metadata": {},
   "outputs": [
    {
     "data": {
      "text/plain": [
       "26"
      ]
     },
     "execution_count": 3,
     "metadata": {},
     "output_type": "execute_result"
    }
   ],
   "source": [
    "len(response['results'])"
   ]
  },
  {
   "cell_type": "code",
   "execution_count": 4,
   "id": "43f23799",
   "metadata": {},
   "outputs": [],
   "source": [
    "results = response['results']"
   ]
  },
  {
   "cell_type": "code",
   "execution_count": 5,
   "id": "c302aa1d",
   "metadata": {},
   "outputs": [],
   "source": [
    "titles = [each['title'] for each in results]"
   ]
  },
  {
   "cell_type": "code",
   "execution_count": 6,
   "id": "3756f119",
   "metadata": {},
   "outputs": [
    {
     "data": {
      "text/plain": [
       "['Appeals Court Orders Trump Lawyer to Hand Over Records in Documents Inquiry',\n",
       " 'Grand Jury\\xa0Hearing Trump Evidence Did Not Meet Wednesday',\n",
       " 'The Fed, Still Inflation-Focused, Raised Rates Amid Bank Uncertainty',\n",
       " 'Seven takeaways from a big day for the Fed.',\n",
       " 'Geothermal Power, Cheap and Clean, Could Help Run Japan. So Why Doesn’t It?',\n",
       " 'Zelensky Makes Morale-Boosting Trip to Bakhmut',\n",
       " 'A Water System So Broken That One Pipe Leaks 5 Million Gallons a Day',\n",
       " 'Los Angeles School Workers Are on Strike, and Parents Say They Get It',\n",
       " 'Not Your Daddy’s Freud',\n",
       " 'Scenes From Recent Atmospheric Rivers in California',\n",
       " 'Five Dead After Winds Pummel a Weather-Beaten California',\n",
       " 'The DeSantis Foreign Policy: Hard Power, but With a High Bar',\n",
       " 'DeSantis Calls Putin a ‘War Criminal,’ Clarifying Earlier Comment on Ukraine',\n",
       " 'Why Are Public Restrooms Still So Rare?',\n",
       " 'Trump May Face Prosecution. America Faces a Test.',\n",
       " 'Sex, Lies and … Trump. What More Can You Ask For?',\n",
       " 'Can’t Read? Here’s a ‘Barefoot College’ for You.',\n",
       " 'Is Working From Home Really Working?',\n",
       " 'Your Wednesday Evening Briefing',\n",
       " 'The I.C.C.’s Arrest Warrant for Putin is More Than ‘Just Symbolic’',\n",
       " 'A Chew Toy for Dogs Provokes a Spirited Supreme Court Argument',\n",
       " 'Wyoming Judge Temporarily Blocks the State’s New Abortion Ban',\n",
       " 'Former Iran Hostages Are Divided on Jimmy Carter and a Sabotage Claim',\n",
       " 'Norfolk Southern to Provide Financial Support After Derailment, C.E.O. Says',\n",
       " 'Puppetry So Lifelike, Even Their Deaths Look Real',\n",
       " 'Today’s Wordle Review']"
      ]
     },
     "execution_count": 6,
     "metadata": {},
     "output_type": "execute_result"
    }
   ],
   "source": [
    "titles"
   ]
  },
  {
   "cell_type": "code",
   "execution_count": 7,
   "id": "d2da736c",
   "metadata": {},
   "outputs": [],
   "source": [
    "import string"
   ]
  },
  {
   "cell_type": "code",
   "execution_count": 8,
   "id": "0686dfac",
   "metadata": {},
   "outputs": [],
   "source": [
    "for i in range(len(titles)):\n",
    "    each = titles[i]\n",
    "    if each[-1] not in string.punctuation:\n",
    "        l = list(each)\n",
    "        l.append(\".\")\n",
    "        titles[i] = \"\".join(l)"
   ]
  },
  {
   "cell_type": "code",
   "execution_count": 9,
   "id": "189e86cc",
   "metadata": {},
   "outputs": [],
   "source": [
    "text = \" \".join(titles)"
   ]
  },
  {
   "cell_type": "code",
   "execution_count": 10,
   "id": "98a5f570",
   "metadata": {},
   "outputs": [
    {
     "name": "stdout",
     "output_type": "stream",
     "text": [
      "Appeals Court Orders Trump Lawyer to Hand Over Records in Documents Inquiry. Grand Jury Hearing Trump Evidence Did Not Meet Wednesday. The Fed, Still Inflation-Focused, Raised Rates Amid Bank Uncertainty. Seven takeaways from a big day for the Fed. Geothermal Power, Cheap and Clean, Could Help Run Japan. So Why Doesn’t It? Zelensky Makes Morale-Boosting Trip to Bakhmut. A Water System So Broken That One Pipe Leaks 5 Million Gallons a Day. Los Angeles School Workers Are on Strike, and Parents Say They Get It. Not Your Daddy’s Freud. Scenes From Recent Atmospheric Rivers in California. Five Dead After Winds Pummel a Weather-Beaten California. The DeSantis Foreign Policy: Hard Power, but With a High Bar. DeSantis Calls Putin a ‘War Criminal,’ Clarifying Earlier Comment on Ukraine. Why Are Public Restrooms Still So Rare? Trump May Face Prosecution. America Faces a Test. Sex, Lies and … Trump. What More Can You Ask For? Can’t Read? Here’s a ‘Barefoot College’ for You. Is Working From Home Really Working? Your Wednesday Evening Briefing. The I.C.C.’s Arrest Warrant for Putin is More Than ‘Just Symbolic’. A Chew Toy for Dogs Provokes a Spirited Supreme Court Argument. Wyoming Judge Temporarily Blocks the State’s New Abortion Ban. Former Iran Hostages Are Divided on Jimmy Carter and a Sabotage Claim. Norfolk Southern to Provide Financial Support After Derailment, C.E.O. Says. Puppetry So Lifelike, Even Their Deaths Look Real. Today’s Wordle Review.\n"
     ]
    }
   ],
   "source": [
    "print(text)"
   ]
  },
  {
   "cell_type": "code",
   "execution_count": 11,
   "id": "5bc3f219",
   "metadata": {},
   "outputs": [],
   "source": [
    "import spacy"
   ]
  },
  {
   "cell_type": "code",
   "execution_count": 12,
   "id": "c78c662c",
   "metadata": {},
   "outputs": [],
   "source": [
    "nlp = spacy.load('en_core_web_md')"
   ]
  },
  {
   "cell_type": "code",
   "execution_count": 13,
   "id": "cfbcec3d",
   "metadata": {},
   "outputs": [],
   "source": [
    "doc = nlp(text)"
   ]
  },
  {
   "cell_type": "code",
   "execution_count": 15,
   "id": "ceda530d",
   "metadata": {},
   "outputs": [],
   "source": [
    "nouns = [token.text for token in doc if token.pos_ == \"NOUN\"]\n",
    "verbs = [token.text for token in doc if token.pos_ == \"VERB\"]\n",
    "adjs = [token.text for token in doc if token.pos_ == \"ADJ\"]\n",
    "preps = [token.text for token in doc if token.dep_ == 'prep']"
   ]
  },
  {
   "cell_type": "code",
   "execution_count": 16,
   "id": "f2e4f1b3",
   "metadata": {},
   "outputs": [],
   "source": [
    "noun_chunks = list(each.text for each in doc.noun_chunks)"
   ]
  },
  {
   "cell_type": "code",
   "execution_count": 17,
   "id": "e040b02a",
   "metadata": {},
   "outputs": [],
   "source": [
    "import tracery"
   ]
  },
  {
   "cell_type": "code",
   "execution_count": 18,
   "id": "06680cf1",
   "metadata": {},
   "outputs": [],
   "source": [
    "from tracery.modifiers import base_english"
   ]
  },
  {
   "cell_type": "code",
   "execution_count": 19,
   "id": "0857b3bc",
   "metadata": {},
   "outputs": [],
   "source": [
    "rules = {\n",
    "    \"origin\": \"#line1#\\n#line2#\\n#line3#\",\n",
    "    \"line1\": \"#adj.capitalize# #noun# #verb#, #adj.capitalize# #noun# #verb#\",\n",
    "    \"line2\": \"#prep.capitalize# #noun_chunk#, #prep# #noun_chunk#, #prep# #noun_chunk#\",\n",
    "    \"line3\": \"#noun_chunk.capitalize# #verb#\",\n",
    "    \"adj\": adjs,\n",
    "    \"noun\": nouns,\n",
    "    \"verb\": verbs,\n",
    "    \"prep\": preps,\n",
    "    \"noun_chunk\": noun_chunks\n",
    "}"
   ]
  },
  {
   "cell_type": "code",
   "execution_count": 20,
   "id": "9dfb98e3",
   "metadata": {},
   "outputs": [],
   "source": [
    "grammar = tracery.Grammar(rules)\n",
    "grammar.add_modifiers(base_english)"
   ]
  },
  {
   "cell_type": "code",
   "execution_count": 21,
   "id": "dac3f3af",
   "metadata": {},
   "outputs": [
    {
     "name": "stdout",
     "output_type": "stream",
     "text": [
      "Rare takeaways Focused, Big Parents Hearing\n",
      "On Zelensky, for Sex, on a Sabotage Claim\n",
      "Morale-Boosting Trip Provide\n",
      "\n",
      "Former Evidence Hearing, Real Day Read\n",
      "For Bakhmut, on So Lifelike, to Wyoming Judge\n",
      "It Calls\n",
      "\n",
      "Public Sex Provide, Real Today Provide\n",
      "On Morale-Boosting Trip, For Putin, From Financial Support\n",
      "A Test Beaten\n",
      "\n"
     ]
    }
   ],
   "source": [
    "for stanza in range(3):\n",
    "    print(grammar.flatten(\"#origin#\"))\n",
    "    print()"
   ]
  },
  {
   "cell_type": "code",
   "execution_count": null,
   "id": "0c2dadd0",
   "metadata": {},
   "outputs": [],
   "source": []
  }
 ],
 "metadata": {
  "kernelspec": {
   "display_name": "Python 3 (ipykernel)",
   "language": "python",
   "name": "python3"
  },
  "language_info": {
   "codemirror_mode": {
    "name": "ipython",
    "version": 3
   },
   "file_extension": ".py",
   "mimetype": "text/x-python",
   "name": "python",
   "nbconvert_exporter": "python",
   "pygments_lexer": "ipython3",
   "version": "3.9.12"
  }
 },
 "nbformat": 4,
 "nbformat_minor": 5
}
