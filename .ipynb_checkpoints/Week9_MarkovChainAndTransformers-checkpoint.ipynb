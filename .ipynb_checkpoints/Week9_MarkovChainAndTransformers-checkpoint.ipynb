{
 "cells": [
  {
   "cell_type": "markdown",
   "id": "53ce77df",
   "metadata": {},
   "source": [
    "# RWET: Week 9 - Markov Chain And Transformers"
   ]
  },
  {
   "cell_type": "markdown",
   "id": "0850bfb8",
   "metadata": {},
   "source": [
    "This assignment is a continuation of my New York Time series, which was inspired by Jen Hofer's [Front Page News](http://www.alligatorzine.be/pages/101/zine115.html).\n",
    "\n",
    "This is a fake news generator utilizing Markov Chain and GPT-2."
   ]
  },
  {
   "cell_type": "code",
   "execution_count": 1,
   "id": "c1fb805e",
   "metadata": {},
   "outputs": [],
   "source": [
    "import requests as req\n",
    "import time\n",
    "API_KEY=''"
   ]
  },
  {
   "cell_type": "code",
   "execution_count": 2,
   "id": "5e7d1ed1",
   "metadata": {},
   "outputs": [],
   "source": [
    "url= \"https://api.nytimes.com/svc/archive/v1/2023/3.json?api-key=\"+ API_KEY\n",
    "response = req.get(url).json()"
   ]
  },
  {
   "cell_type": "code",
   "execution_count": 4,
   "id": "3b566c88",
   "metadata": {},
   "outputs": [
    {
     "data": {
      "text/plain": [
       "5769"
      ]
     },
     "execution_count": 4,
     "metadata": {},
     "output_type": "execute_result"
    }
   ],
   "source": [
    "len(response['response']['docs'])"
   ]
  },
  {
   "cell_type": "code",
   "execution_count": 5,
   "id": "46bc8d7b",
   "metadata": {},
   "outputs": [],
   "source": [
    "headlines = []\n",
    "for article in response['response']['docs']:\n",
    "    headline = article['headline']['print_headline']\n",
    "    if headline:\n",
    "        if \"’\" not in headline and '(' not in headline:\n",
    "            headlines.append(headline)"
   ]
  },
  {
   "cell_type": "code",
   "execution_count": 6,
   "id": "b4fa7d26",
   "metadata": {
    "scrolled": true
   },
   "outputs": [
    {
     "data": {
      "text/plain": [
       "['Linda Kasabian, Lookout Who Testified Against Manson, Is Dead at 73',\n",
       " 'Lawmakers Question Pentagon Officials on Ukraine Funds, Signaling New Concerns',\n",
       " 'In Lawsuit, Top Fire Chiefs Accuse Commissioner of Unfair Demotions',\n",
       " 'Fox Struggled With Stance On Trump',\n",
       " 'Blinken Finds Some Leverage in Central Asia',\n",
       " 'Corrections',\n",
       " 'Quote of the Day',\n",
       " 'How an Israeli Raid Ended With Civilians Killed and Wounded',\n",
       " 'High-Speed, Head-On Train Crash in Greece Kills Dozens',\n",
       " 'Quake Survivors Move To Luxury Cruise Ship']"
      ]
     },
     "execution_count": 6,
     "metadata": {},
     "output_type": "execute_result"
    }
   ],
   "source": [
    "headlines[:10]"
   ]
  },
  {
   "cell_type": "code",
   "execution_count": 7,
   "id": "bdbd5a9f",
   "metadata": {},
   "outputs": [],
   "source": [
    "import markovify"
   ]
  },
  {
   "cell_type": "code",
   "execution_count": 8,
   "id": "4553f9aa",
   "metadata": {},
   "outputs": [],
   "source": [
    "combined_model = None\n",
    "for each in headlines:\n",
    "#     print(each)\n",
    "    model = markovify.Text(each, retain_original=False, state_size=1)\n",
    "    if combined_model:\n",
    "        combined_model = markovify.combine(models=[combined_model, model])\n",
    "    else:\n",
    "        combined_model = model"
   ]
  },
  {
   "cell_type": "code",
   "execution_count": 9,
   "id": "1a019b4f",
   "metadata": {},
   "outputs": [
    {
     "name": "stdout",
     "output_type": "stream",
     "text": [
      "How Much of the Biggest U.S. Needs\n",
      "Bargaining Deadline\n",
      "Bonuses Drop For Africa For a Super Bowl Of Tech Tips the White House\n",
      "Mona Lisa Predicted The Beautiful\n",
      "Quote of the Celestial Photobombers\n",
      "Corrections\n",
      "Zero-Waste Cooking, Practical and Unsparing Biographer of Your Family Reunion\n",
      "Railway C.E.O. Pledges Financial Support Grows\n",
      "Sharing the Need Homes, She Faced Prison.\n",
      "In Abscam Sting, Dies\n"
     ]
    }
   ],
   "source": [
    "for i in range(10):\n",
    "    print(combined_model.make_short_sentence(80, tries=100))"
   ]
  },
  {
   "cell_type": "code",
   "execution_count": 10,
   "id": "bf0192c4",
   "metadata": {},
   "outputs": [],
   "source": [
    "from transformers import pipeline, AutoModelForCausalLM, AutoTokenizer"
   ]
  },
  {
   "cell_type": "code",
   "execution_count": 11,
   "id": "5cc96631",
   "metadata": {},
   "outputs": [],
   "source": [
    "tokenizer = AutoTokenizer.from_pretrained('distilgpt2')\n",
    "model = AutoModelForCausalLM.from_pretrained('distilgpt2')"
   ]
  },
  {
   "cell_type": "code",
   "execution_count": 12,
   "id": "5dbc391c",
   "metadata": {},
   "outputs": [],
   "source": [
    "generator = pipeline('text-generation', model=model, tokenizer=tokenizer)"
   ]
  },
  {
   "cell_type": "code",
   "execution_count": 13,
   "id": "8049f7a2",
   "metadata": {
    "scrolled": true
   },
   "outputs": [
    {
     "name": "stdout",
     "output_type": "stream",
     "text": [
      "Headline: Smoking Causes Cancellation\n"
     ]
    },
    {
     "name": "stderr",
     "output_type": "stream",
     "text": [
      "/Users/lily_yu/opt/anaconda3/lib/python3.9/site-packages/transformers/generation/utils.py:1201: UserWarning: You have modified the pretrained model configuration to control generation. This is a deprecated strategy to control generation and will be removed soon, in a future version. Please use a generation configuration file (see https://huggingface.co/docs/transformers/main_classes/text_generation)\n",
      "  warnings.warn(\n"
     ]
    },
    {
     "name": "stdout",
     "output_type": "stream",
     "text": [
      "Smoking Causes Cancellation of the ESRB (the EU's European Space Agency).\n",
      "\n",
      "\n",
      "\n",
      "The ESRB in June was a landmark international instrument for the space exploration effort and was made operational in October 2007 by the European Space Agency. It was made available only to the European Space Agency and is the only official instrument for the development of its successor, the Space Council.\n",
      "The ESRB was created in 2007 under a programme of collaboration between the European Space Agency and ESA\n",
      "\n",
      "-------------------\n",
      "\n",
      "Headline: The Prophetic\n",
      "The Prophetic Treatment of Cancer in the Family‏ \" This is how I work. I also feel that for the family and friends on the front lines in our work, I would use this as a template to bring an end to our lives, or to save us a lot of money for research.\"\n",
      "\n",
      "\n",
      "\n",
      "Many thanks to all of you who supported our work.\n",
      "The work of the American Cancer Society is much appreciated.\n",
      "See the article on this website if you love the science\n",
      "\n",
      "-------------------\n",
      "\n",
      "Headline: New Jersey Sparks Call for Hearing Focuses On TikTok Turns\n",
      "New Jersey Sparks Call for Hearing Focuses On TikTok Turns A Lot Of Students' Families to Turn Focuses On\n",
      "Jared Todkowsky, Staff Writer for American Jewish News, says that \"a bunch of people are trying to push their parents off of school altogether. How did they reach out to a parent who asked what she thought of their school? And what other kids were looking for and just what they were looking for?\"\n",
      "The latest issue of American Jewish Review appeared June\n",
      "\n",
      "-------------------\n",
      "\n",
      "Headline: F.D.A. Will Miss the Land and a Force, House G.O.P. Setbacks\n",
      "F.D.A. Will Miss the Land and a Force, House G.O.P. Setbacks, House Zor-Zor-Zor-Zor-Zor-Zor-Zor-Zor-Zor-Zor-Zor-Zor-Zor-Zor-Zor-Zor-Zor-Zor-Zor-Zor-Zor-Zor-Zor-Zor-Zor-\n",
      "\n",
      "-------------------\n",
      "\n",
      "Headline: Newly Published / Visuals\n",
      "Newly Published / Visuals / Online: The Bizarre Book From the Bizarre Book:\n",
      "\n",
      "\n",
      "\n",
      "\n",
      "\n",
      "In a letter to its editor, the publisher of the Bizarre Book from the Bizarre Book, Dr. Daniel E. Groszewski, says, \"I have to confess that I was not fully fully versed in how to write my novel, and I am extremely concerned about how to produce the book.\" The book did not include a picture that, once published\n",
      "\n",
      "-------------------\n",
      "\n"
     ]
    }
   ],
   "source": [
    "for i in range(5):\n",
    "    prompt = combined_model.make_short_sentence(80, tries=100)\n",
    "    print(\"Headline: \" + prompt)\n",
    "    text = generator(prompt, max_length=100, pad_token_id=50256)[0]['generated_text']\n",
    "    print(text)\n",
    "    print()\n",
    "    print(\"-------------------\")\n",
    "    print()"
   ]
  },
  {
   "cell_type": "code",
   "execution_count": null,
   "id": "d143b65f",
   "metadata": {},
   "outputs": [],
   "source": []
  }
 ],
 "metadata": {
  "kernelspec": {
   "display_name": "Python 3 (ipykernel)",
   "language": "python",
   "name": "python3"
  },
  "language_info": {
   "codemirror_mode": {
    "name": "ipython",
    "version": 3
   },
   "file_extension": ".py",
   "mimetype": "text/x-python",
   "name": "python",
   "nbconvert_exporter": "python",
   "pygments_lexer": "ipython3",
   "version": "3.9.12"
  }
 },
 "nbformat": 4,
 "nbformat_minor": 5
}
