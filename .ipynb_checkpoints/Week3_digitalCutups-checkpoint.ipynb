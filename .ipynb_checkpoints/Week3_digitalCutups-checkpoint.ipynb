{
 "cells": [
  {
   "cell_type": "markdown",
   "id": "778dd265",
   "metadata": {},
   "source": [
    "# RWET: Week 3 - Digital Cut-ups"
   ]
  },
  {
   "cell_type": "markdown",
   "id": "a1d9dae9",
   "metadata": {},
   "source": [
    "This assignment is inspired by Jen Hofer's [Front Page News](http://www.alligatorzine.be/pages/101/zine115.html).\n",
    "\n",
    "I scraped the titles of top stories from New York Time's home page and generated randomized cut-ups from them."
   ]
  },
  {
   "cell_type": "code",
   "execution_count": 1,
   "id": "837c9ec3",
   "metadata": {},
   "outputs": [],
   "source": [
    "import requests as req\n",
    "import time\n",
    "API_KEY='MY_KEY'"
   ]
  },
  {
   "cell_type": "code",
   "execution_count": 2,
   "id": "01e37625",
   "metadata": {},
   "outputs": [],
   "source": [
    "url= \"https://api.nytimes.com/svc/topstories/v2/home.json?api-key=\"+ API_KEY\n",
    "response = req.get(url).json()"
   ]
  },
  {
   "cell_type": "code",
   "execution_count": 3,
   "id": "d0e3aead",
   "metadata": {},
   "outputs": [
    {
     "data": {
      "text/plain": [
       "30"
      ]
     },
     "execution_count": 3,
     "metadata": {},
     "output_type": "execute_result"
    }
   ],
   "source": [
    "len(response['results'])"
   ]
  },
  {
   "cell_type": "code",
   "execution_count": 4,
   "id": "26590063",
   "metadata": {},
   "outputs": [],
   "source": [
    "results = response['results']"
   ]
  },
  {
   "cell_type": "code",
   "execution_count": 6,
   "id": "3e365ba1",
   "metadata": {},
   "outputs": [],
   "source": [
    "titles = [each['title'] for each in results]"
   ]
  },
  {
   "cell_type": "code",
   "execution_count": 7,
   "id": "ac348f55",
   "metadata": {},
   "outputs": [
    {
     "data": {
      "text/plain": [
       "['U.S. on Track to Add $19 Trillion in New Debt Over 10 Years',\n",
       " 'C.B.O. Warns of Possible Default Between July and September',\n",
       " 'How a Fog of Questions Over a Spy Balloon and U.F.O.s Fed a Diplomatic Crisis',\n",
       " 'Russian balloons floating over Kyiv were shot down, city officials say.',\n",
       " 'Moscow’s Military Capabilities Are in Question After Failed Battle for Ukrainian City',\n",
       " 'In Ohio Town Where Train Derailed, Anxiety and Distrust Are Running Deep',\n",
       " '‘We’re Scared, Too’: Ohio Residents Press for Answers on Train Derailment at Meeting',\n",
       " 'In the Wake of Tragedy, Balancing Freedom and Safety at Michigan State',\n",
       " 'Was Pablo Neruda Murdered?',\n",
       " 'Who Was Pablo Neruda and Why Is His Death a Mystery?',\n",
       " 'Raquel Welch, Actress and ’60s Sex Symbol, Is Dead at 82',\n",
       " 'Raquel Welch, a Lifetime of Looks',\n",
       " 'Microsoft’s Bing Chatbot Offers Some Puzzling and Inaccurate Responses',\n",
       " 'Before the Gunfire, It Was Their Glittering ‘Dancing Star’',\n",
       " 'George Santos Married a Brazilian Woman. House Is Asked to Find Out Why.',\n",
       " 'An Ice Factory From the 1900s Is Now a Spectacular New Bronx School',\n",
       " '‘Nikki Haley Will Not Be the Next President’: Our Columnists Weigh In',\n",
       " 'The Law Is Closing In on Trump',\n",
       " 'Ron DeSantis and the ‘Wicked Wisdom’ of Divide and Conquer',\n",
       " 'Are Men the Overlooked Reason for the Fertility Decline?',\n",
       " 'Your Wednesday Evening Briefing',\n",
       " 'What Nikki Haley Can Teach Us About the Republican Party',\n",
       " 'Winter Citrus and Harissa Chicken',\n",
       " 'What Did You Spend on Your Vacation? We’d Love to Hear.',\n",
       " 'Thousands of Chinese Retirees Protest Government Cuts to Benefits',\n",
       " 'Narcan Is Safe to Sell Over the Counter, Advisers to the F.D.A. Conclude',\n",
       " 'Nicotine Gum and Acid Reflux: What We Learn From Presidential Physicals',\n",
       " 'A Game Turns City’s Way, and a Season Turns With It',\n",
       " 'Hari Nef and Parker Posey: Two ‘It’ Girls Whose ‘Humanity Peeks Through’',\n",
       " 'Few Wordle Players Use Consistent Starting Words, but When They Do, It’s ADIEU']"
      ]
     },
     "execution_count": 7,
     "metadata": {},
     "output_type": "execute_result"
    }
   ],
   "source": [
    "titles"
   ]
  },
  {
   "cell_type": "code",
   "execution_count": 10,
   "id": "e2c2a8e3",
   "metadata": {},
   "outputs": [
    {
     "data": {
      "text/plain": [
       "[['U.S.',\n",
       "  'on',\n",
       "  'Track',\n",
       "  'to',\n",
       "  'Add',\n",
       "  '$19',\n",
       "  'Trillion',\n",
       "  'in',\n",
       "  'New',\n",
       "  'Debt',\n",
       "  'Over',\n",
       "  '10',\n",
       "  'Years'],\n",
       " ['C.B.O.',\n",
       "  'Warns',\n",
       "  'of',\n",
       "  'Possible',\n",
       "  'Default',\n",
       "  'Between',\n",
       "  'July',\n",
       "  'and',\n",
       "  'September'],\n",
       " ['How',\n",
       "  'a',\n",
       "  'Fog',\n",
       "  'of',\n",
       "  'Questions',\n",
       "  'Over',\n",
       "  'a',\n",
       "  'Spy',\n",
       "  'Balloon',\n",
       "  'and',\n",
       "  'U.F.O.s',\n",
       "  'Fed',\n",
       "  'a',\n",
       "  'Diplomatic',\n",
       "  'Crisis'],\n",
       " ['Russian',\n",
       "  'balloons',\n",
       "  'floating',\n",
       "  'over',\n",
       "  'Kyiv',\n",
       "  'were',\n",
       "  'shot',\n",
       "  'down,',\n",
       "  'city',\n",
       "  'officials',\n",
       "  'say.'],\n",
       " ['Moscow’s',\n",
       "  'Military',\n",
       "  'Capabilities',\n",
       "  'Are',\n",
       "  'in',\n",
       "  'Question',\n",
       "  'After',\n",
       "  'Failed',\n",
       "  'Battle',\n",
       "  'for',\n",
       "  'Ukrainian',\n",
       "  'City'],\n",
       " ['In',\n",
       "  'Ohio',\n",
       "  'Town',\n",
       "  'Where',\n",
       "  'Train',\n",
       "  'Derailed,',\n",
       "  'Anxiety',\n",
       "  'and',\n",
       "  'Distrust',\n",
       "  'Are',\n",
       "  'Running',\n",
       "  'Deep'],\n",
       " ['‘We’re',\n",
       "  'Scared,',\n",
       "  'Too’:',\n",
       "  'Ohio',\n",
       "  'Residents',\n",
       "  'Press',\n",
       "  'for',\n",
       "  'Answers',\n",
       "  'on',\n",
       "  'Train',\n",
       "  'Derailment',\n",
       "  'at',\n",
       "  'Meeting'],\n",
       " ['In',\n",
       "  'the',\n",
       "  'Wake',\n",
       "  'of',\n",
       "  'Tragedy,',\n",
       "  'Balancing',\n",
       "  'Freedom',\n",
       "  'and',\n",
       "  'Safety',\n",
       "  'at',\n",
       "  'Michigan',\n",
       "  'State'],\n",
       " ['Was', 'Pablo', 'Neruda', 'Murdered?'],\n",
       " ['Who',\n",
       "  'Was',\n",
       "  'Pablo',\n",
       "  'Neruda',\n",
       "  'and',\n",
       "  'Why',\n",
       "  'Is',\n",
       "  'His',\n",
       "  'Death',\n",
       "  'a',\n",
       "  'Mystery?'],\n",
       " ['Raquel',\n",
       "  'Welch,',\n",
       "  'Actress',\n",
       "  'and',\n",
       "  '’60s',\n",
       "  'Sex',\n",
       "  'Symbol,',\n",
       "  'Is',\n",
       "  'Dead',\n",
       "  'at',\n",
       "  '82'],\n",
       " ['Raquel', 'Welch,', 'a', 'Lifetime', 'of', 'Looks'],\n",
       " ['Microsoft’s',\n",
       "  'Bing',\n",
       "  'Chatbot',\n",
       "  'Offers',\n",
       "  'Some',\n",
       "  'Puzzling',\n",
       "  'and',\n",
       "  'Inaccurate',\n",
       "  'Responses'],\n",
       " ['Before',\n",
       "  'the',\n",
       "  'Gunfire,',\n",
       "  'It',\n",
       "  'Was',\n",
       "  'Their',\n",
       "  'Glittering',\n",
       "  '‘Dancing',\n",
       "  'Star’'],\n",
       " ['George',\n",
       "  'Santos',\n",
       "  'Married',\n",
       "  'a',\n",
       "  'Brazilian',\n",
       "  'Woman.',\n",
       "  'House',\n",
       "  'Is',\n",
       "  'Asked',\n",
       "  'to',\n",
       "  'Find',\n",
       "  'Out',\n",
       "  'Why.'],\n",
       " ['An',\n",
       "  'Ice',\n",
       "  'Factory',\n",
       "  'From',\n",
       "  'the',\n",
       "  '1900s',\n",
       "  'Is',\n",
       "  'Now',\n",
       "  'a',\n",
       "  'Spectacular',\n",
       "  'New',\n",
       "  'Bronx',\n",
       "  'School'],\n",
       " ['‘Nikki',\n",
       "  'Haley',\n",
       "  'Will',\n",
       "  'Not',\n",
       "  'Be',\n",
       "  'the',\n",
       "  'Next',\n",
       "  'President’:',\n",
       "  'Our',\n",
       "  'Columnists',\n",
       "  'Weigh',\n",
       "  'In'],\n",
       " ['The', 'Law', 'Is', 'Closing', 'In', 'on', 'Trump'],\n",
       " ['Ron',\n",
       "  'DeSantis',\n",
       "  'and',\n",
       "  'the',\n",
       "  '‘Wicked',\n",
       "  'Wisdom’',\n",
       "  'of',\n",
       "  'Divide',\n",
       "  'and',\n",
       "  'Conquer'],\n",
       " ['Are',\n",
       "  'Men',\n",
       "  'the',\n",
       "  'Overlooked',\n",
       "  'Reason',\n",
       "  'for',\n",
       "  'the',\n",
       "  'Fertility',\n",
       "  'Decline?'],\n",
       " ['Your', 'Wednesday', 'Evening', 'Briefing'],\n",
       " ['What',\n",
       "  'Nikki',\n",
       "  'Haley',\n",
       "  'Can',\n",
       "  'Teach',\n",
       "  'Us',\n",
       "  'About',\n",
       "  'the',\n",
       "  'Republican',\n",
       "  'Party'],\n",
       " ['Winter', 'Citrus', 'and', 'Harissa', 'Chicken'],\n",
       " ['What',\n",
       "  'Did',\n",
       "  'You',\n",
       "  'Spend',\n",
       "  'on',\n",
       "  'Your',\n",
       "  'Vacation?',\n",
       "  'We’d',\n",
       "  'Love',\n",
       "  'to',\n",
       "  'Hear.'],\n",
       " ['Thousands',\n",
       "  'of',\n",
       "  'Chinese',\n",
       "  'Retirees',\n",
       "  'Protest',\n",
       "  'Government',\n",
       "  'Cuts',\n",
       "  'to',\n",
       "  'Benefits'],\n",
       " ['Narcan',\n",
       "  'Is',\n",
       "  'Safe',\n",
       "  'to',\n",
       "  'Sell',\n",
       "  'Over',\n",
       "  'the',\n",
       "  'Counter,',\n",
       "  'Advisers',\n",
       "  'to',\n",
       "  'the',\n",
       "  'F.D.A.',\n",
       "  'Conclude'],\n",
       " ['Nicotine',\n",
       "  'Gum',\n",
       "  'and',\n",
       "  'Acid',\n",
       "  'Reflux:',\n",
       "  'What',\n",
       "  'We',\n",
       "  'Learn',\n",
       "  'From',\n",
       "  'Presidential',\n",
       "  'Physicals'],\n",
       " ['A',\n",
       "  'Game',\n",
       "  'Turns',\n",
       "  'City’s',\n",
       "  'Way,',\n",
       "  'and',\n",
       "  'a',\n",
       "  'Season',\n",
       "  'Turns',\n",
       "  'With',\n",
       "  'It'],\n",
       " ['Hari',\n",
       "  'Nef',\n",
       "  'and',\n",
       "  'Parker',\n",
       "  'Posey:',\n",
       "  'Two',\n",
       "  '‘It’',\n",
       "  'Girls',\n",
       "  'Whose',\n",
       "  '‘Humanity',\n",
       "  'Peeks',\n",
       "  'Through’'],\n",
       " ['Few',\n",
       "  'Wordle',\n",
       "  'Players',\n",
       "  'Use',\n",
       "  'Consistent',\n",
       "  'Starting',\n",
       "  'Words,',\n",
       "  'but',\n",
       "  'When',\n",
       "  'They',\n",
       "  'Do,',\n",
       "  'It’s',\n",
       "  'ADIEU']]"
      ]
     },
     "execution_count": 10,
     "metadata": {},
     "output_type": "execute_result"
    }
   ],
   "source": [
    "l_titles = [t.split() for t in titles]\n",
    "l_titles"
   ]
  },
  {
   "cell_type": "code",
   "execution_count": 14,
   "id": "6963dc1a",
   "metadata": {},
   "outputs": [
    {
     "data": {
      "text/plain": [
       "4"
      ]
     },
     "execution_count": 14,
     "metadata": {},
     "output_type": "execute_result"
    }
   ],
   "source": [
    "min_len = min([len(each) for each in l_titles])\n",
    "min_len"
   ]
  },
  {
   "cell_type": "code",
   "execution_count": 13,
   "id": "2923d32f",
   "metadata": {},
   "outputs": [
    {
     "data": {
      "text/plain": [
       "15"
      ]
     },
     "execution_count": 13,
     "metadata": {},
     "output_type": "execute_result"
    }
   ],
   "source": [
    "max_len = max([len(each) for each in l_titles])\n",
    "max_len"
   ]
  },
  {
   "cell_type": "code",
   "execution_count": 17,
   "id": "b7c0e173",
   "metadata": {
    "scrolled": true
   },
   "outputs": [
    {
     "data": {
      "text/plain": [
       "[4,\n",
       " 4,\n",
       " 5,\n",
       " 6,\n",
       " 7,\n",
       " 9,\n",
       " 9,\n",
       " 9,\n",
       " 9,\n",
       " 9,\n",
       " 10,\n",
       " 10,\n",
       " 11,\n",
       " 11,\n",
       " 11,\n",
       " 11,\n",
       " 11,\n",
       " 11,\n",
       " 12,\n",
       " 12,\n",
       " 12,\n",
       " 12,\n",
       " 12,\n",
       " 13,\n",
       " 13,\n",
       " 13,\n",
       " 13,\n",
       " 13,\n",
       " 13,\n",
       " 15]"
      ]
     },
     "execution_count": 17,
     "metadata": {},
     "output_type": "execute_result"
    }
   ],
   "source": [
    "sorted([len(each) for each in l_titles])"
   ]
  },
  {
   "cell_type": "code",
   "execution_count": 15,
   "id": "78d634d7",
   "metadata": {},
   "outputs": [],
   "source": [
    "import random"
   ]
  },
  {
   "cell_type": "code",
   "execution_count": 37,
   "id": "a3befcb7",
   "metadata": {},
   "outputs": [
    {
     "name": "stdout",
     "output_type": "stream",
     "text": [
      "Track to Add $19 Trillion\n",
      "of Possible Default\n",
      "a Fog of Questions Over\n",
      "Russian balloons floating\n",
      "Capabilities Are in Question\n",
      "Where Train Derailed, Anxiety and\n",
      "Scared, Too’: Ohio Residents\n",
      "the Wake of Tragedy, Balancing\n",
      "Pablo Neruda Murdered?\n",
      "Who Was\n",
      "Welch, Actress and ’60s Sex\n",
      "Lifetime of Looks\n",
      "Microsoft’s Bing\n",
      "It Was Their\n",
      "a Brazilian\n",
      "An Ice Factory\n",
      "Haley Will\n",
      "Is Closing\n",
      "the ‘Wicked Wisdom’ of\n",
      "the Overlooked Reason for\n",
      "Evening Briefing\n",
      "What Nikki Haley Can\n",
      "Winter Citrus and\n",
      "What Did You\n",
      "Retirees Protest\n",
      "Safe to Sell\n",
      "and Acid\n",
      "Game Turns City’s Way, and\n",
      "Nef and Parker Posey:\n",
      "Wordle Players\n"
     ]
    }
   ],
   "source": [
    "for each in l_titles:\n",
    "    idx = random.randint(0, 3)\n",
    "    length = random.randint(2, 5)\n",
    "    if length <= len(each):\n",
    "        print(\" \".join(each[idx : (idx + length)]))\n",
    "    else:\n",
    "        print(\" \".join(each[idx:]))"
   ]
  }
 ],
 "metadata": {
  "kernelspec": {
   "display_name": "Python 3 (ipykernel)",
   "language": "python",
   "name": "python3"
  },
  "language_info": {
   "codemirror_mode": {
    "name": "ipython",
    "version": 3
   },
   "file_extension": ".py",
   "mimetype": "text/x-python",
   "name": "python",
   "nbconvert_exporter": "python",
   "pygments_lexer": "ipython3",
   "version": "3.9.12"
  }
 },
 "nbformat": 4,
 "nbformat_minor": 5
}
