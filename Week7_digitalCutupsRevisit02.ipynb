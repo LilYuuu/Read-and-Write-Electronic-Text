{
 "cells": [
  {
   "cell_type": "markdown",
   "id": "53ce77df",
   "metadata": {},
   "source": [
    "# RWET: Week 7 - Digital Cut-ups Revisit (Attempt 2)"
   ]
  },
  {
   "cell_type": "markdown",
   "id": "0850bfb8",
   "metadata": {},
   "source": [
    "This assignment is a continuation of the assignment from Week 3, which was inspired by Jen Hofer's [Front Page News](http://www.alligatorzine.be/pages/101/zine115.html).\n",
    "\n",
    "I scraped the titles of top stories from New York Time's home page and generated randomized cut-ups from them.\n",
    "\n",
    "This is my second attempt, in which I utilized word vectors to add a \"romantic tint\" to remake the news titles."
   ]
  },
  {
   "cell_type": "code",
   "execution_count": 1,
   "id": "c1fb805e",
   "metadata": {},
   "outputs": [],
   "source": [
    "import requests as req\n",
    "import time\n",
    "API_KEY='g0p4CKl33ZfkMMjHn1GVW5UTEsDnQjMC'"
   ]
  },
  {
   "cell_type": "code",
   "execution_count": 2,
   "id": "5e7d1ed1",
   "metadata": {},
   "outputs": [],
   "source": [
    "url= \"https://api.nytimes.com/svc/topstories/v2/home.json?api-key=\"+ API_KEY\n",
    "response = req.get(url).json()"
   ]
  },
  {
   "cell_type": "code",
   "execution_count": 3,
   "id": "c2d0813e",
   "metadata": {},
   "outputs": [
    {
     "data": {
      "text/plain": [
       "26"
      ]
     },
     "execution_count": 3,
     "metadata": {},
     "output_type": "execute_result"
    }
   ],
   "source": [
    "len(response['results'])"
   ]
  },
  {
   "cell_type": "code",
   "execution_count": 4,
   "id": "43f23799",
   "metadata": {},
   "outputs": [],
   "source": [
    "results = response['results']"
   ]
  },
  {
   "cell_type": "code",
   "execution_count": 5,
   "id": "c302aa1d",
   "metadata": {},
   "outputs": [],
   "source": [
    "titles = [each['title'] for each in results]"
   ]
  },
  {
   "cell_type": "code",
   "execution_count": 6,
   "id": "3756f119",
   "metadata": {},
   "outputs": [
    {
     "data": {
      "text/plain": [
       "['Appeals Court Orders Trump Lawyer to Hand Over Records in Documents Inquiry',\n",
       " 'Grand Jury\\xa0Hearing Trump Evidence Did Not Meet Wednesday',\n",
       " 'The Fed, Still Inflation-Focused, Raised Rates Amid Bank Uncertainty',\n",
       " 'Seven takeaways from a big day for the Fed.',\n",
       " 'Geothermal Power, Cheap and Clean, Could Help Run Japan. So Why Doesn’t It?',\n",
       " 'Zelensky Makes Morale-Boosting Trip to Bakhmut',\n",
       " 'A Water System So Broken That One Pipe Leaks 5 Million Gallons a Day',\n",
       " 'Los Angeles School Workers Are on Strike, and Parents Say They Get It',\n",
       " 'Not Your Daddy’s Freud',\n",
       " 'Scenes From Recent Atmospheric Rivers in California',\n",
       " 'Five Dead After Winds Pummel a Weather-Beaten California',\n",
       " 'The DeSantis Foreign Policy: Hard Power, but With a High Bar',\n",
       " 'DeSantis Calls Putin a ‘War Criminal,’ Clarifying Earlier Comment on Ukraine',\n",
       " 'Why Are Public Restrooms Still So Rare?',\n",
       " 'Trump May Face Prosecution. America Faces a Test.',\n",
       " 'Sex, Lies and … Trump. What More Can You Ask For?',\n",
       " 'Can’t Read? Here’s a ‘Barefoot College’ for You.',\n",
       " 'Is Working From Home Really Working?',\n",
       " 'Your Wednesday Evening Briefing',\n",
       " 'The I.C.C.’s Arrest Warrant for Putin is More Than ‘Just Symbolic’',\n",
       " 'A Chew Toy for Dogs Provokes a Spirited Supreme Court Argument',\n",
       " 'Wyoming Judge Temporarily Blocks the State’s New Abortion Ban',\n",
       " 'Former Iran Hostages Are Divided on Jimmy Carter and a Sabotage Claim',\n",
       " 'Norfolk Southern to Provide Financial Support After Derailment, C.E.O. Says',\n",
       " 'Puppetry So Lifelike, Even Their Deaths Look Real',\n",
       " 'Today’s Wordle Review']"
      ]
     },
     "execution_count": 6,
     "metadata": {},
     "output_type": "execute_result"
    }
   ],
   "source": [
    "titles"
   ]
  },
  {
   "cell_type": "code",
   "execution_count": 7,
   "id": "d2da736c",
   "metadata": {},
   "outputs": [],
   "source": [
    "import string"
   ]
  },
  {
   "cell_type": "code",
   "execution_count": 8,
   "id": "0686dfac",
   "metadata": {},
   "outputs": [],
   "source": [
    "for i in range(len(titles)):\n",
    "    each = titles[i].lower()\n",
    "    if each[-1] not in string.punctuation:\n",
    "        l = list(each)\n",
    "        l.append(\".\")\n",
    "        titles[i] = \"\".join(l)"
   ]
  },
  {
   "cell_type": "code",
   "execution_count": 9,
   "id": "189e86cc",
   "metadata": {},
   "outputs": [],
   "source": [
    "text = \"\\n\".join(titles)"
   ]
  },
  {
   "cell_type": "code",
   "execution_count": 10,
   "id": "98a5f570",
   "metadata": {},
   "outputs": [
    {
     "name": "stdout",
     "output_type": "stream",
     "text": [
      "appeals court orders trump lawyer to hand over records in documents inquiry.\n",
      "grand jury hearing trump evidence did not meet wednesday.\n",
      "the fed, still inflation-focused, raised rates amid bank uncertainty.\n",
      "Seven takeaways from a big day for the Fed.\n",
      "Geothermal Power, Cheap and Clean, Could Help Run Japan. So Why Doesn’t It?\n",
      "zelensky makes morale-boosting trip to bakhmut.\n",
      "a water system so broken that one pipe leaks 5 million gallons a day.\n",
      "los angeles school workers are on strike, and parents say they get it.\n",
      "not your daddy’s freud.\n",
      "scenes from recent atmospheric rivers in california.\n",
      "five dead after winds pummel a weather-beaten california.\n",
      "the desantis foreign policy: hard power, but with a high bar.\n",
      "desantis calls putin a ‘war criminal,’ clarifying earlier comment on ukraine.\n",
      "Why Are Public Restrooms Still So Rare?\n",
      "Trump May Face Prosecution. America Faces a Test.\n",
      "Sex, Lies and … Trump. What More Can You Ask For?\n",
      "Can’t Read? Here’s a ‘Barefoot College’ for You.\n",
      "Is Working From Home Really Working?\n",
      "your wednesday evening briefing.\n",
      "the i.c.c.’s arrest warrant for putin is more than ‘just symbolic’.\n",
      "a chew toy for dogs provokes a spirited supreme court argument.\n",
      "wyoming judge temporarily blocks the state’s new abortion ban.\n",
      "former iran hostages are divided on jimmy carter and a sabotage claim.\n",
      "norfolk southern to provide financial support after derailment, c.e.o. says.\n",
      "puppetry so lifelike, even their deaths look real.\n",
      "today’s wordle review.\n"
     ]
    }
   ],
   "source": [
    "print(text)"
   ]
  },
  {
   "cell_type": "code",
   "execution_count": 11,
   "id": "5bc3f219",
   "metadata": {},
   "outputs": [],
   "source": [
    "import spacy"
   ]
  },
  {
   "cell_type": "code",
   "execution_count": 12,
   "id": "c78c662c",
   "metadata": {},
   "outputs": [],
   "source": [
    "nlp = spacy.load('en_core_web_md')"
   ]
  },
  {
   "cell_type": "code",
   "execution_count": 13,
   "id": "cfbcec3d",
   "metadata": {},
   "outputs": [],
   "source": [
    "doc = nlp(text)"
   ]
  },
  {
   "cell_type": "code",
   "execution_count": 14,
   "id": "cfb25173",
   "metadata": {},
   "outputs": [],
   "source": [
    "import random"
   ]
  },
  {
   "cell_type": "code",
   "execution_count": 15,
   "id": "48c4e747",
   "metadata": {},
   "outputs": [
    {
     "name": "stdout",
     "output_type": "stream",
     "text": [
      "Requirement already satisfied: simpleneighbors in /Users/lily_yu/opt/anaconda3/lib/python3.9/site-packages (0.1.0)\r\n"
     ]
    }
   ],
   "source": [
    "import sys\n",
    "!{sys.executable} -m pip install simpleneighbors"
   ]
  },
  {
   "cell_type": "code",
   "execution_count": 16,
   "id": "24ecfce5",
   "metadata": {},
   "outputs": [
    {
     "name": "stdout",
     "output_type": "stream",
     "text": [
      "Requirement already satisfied: annoy==1.16.3 in /Users/lily_yu/opt/anaconda3/lib/python3.9/site-packages (1.16.3)\r\n"
     ]
    }
   ],
   "source": [
    "!{sys.executable} -m pip install annoy==1.16.3"
   ]
  },
  {
   "cell_type": "code",
   "execution_count": 17,
   "id": "3e95c1f3",
   "metadata": {},
   "outputs": [],
   "source": [
    "from simpleneighbors import SimpleNeighbors"
   ]
  },
  {
   "cell_type": "code",
   "execution_count": 18,
   "id": "b1120f36",
   "metadata": {},
   "outputs": [],
   "source": [
    "def vec(s):\n",
    "    return nlp.vocab[s].vector"
   ]
  },
  {
   "cell_type": "code",
   "execution_count": 19,
   "id": "bfa97c09",
   "metadata": {},
   "outputs": [
    {
     "name": "stdout",
     "output_type": "stream",
     "text": [
      "  % Total    % Received % Xferd  Average Speed   Time    Time     Time  Current\n",
      "                                 Dload  Upload   Total   Spent    Left  Speed\n",
      "100  898k  100  898k    0     0  6277k      0 --:--:-- --:--:-- --:--:-- 6326k\n"
     ]
    }
   ],
   "source": [
    "!curl -L -O https://raw.githubusercontent.com/aparrish/wordfreq-en-25000/main/wordfreq-en-25000-log.json"
   ]
  },
  {
   "cell_type": "code",
   "execution_count": 20,
   "id": "5e166ec7",
   "metadata": {},
   "outputs": [],
   "source": [
    "import json\n",
    "prob_lookup = dict(json.load(open(\"./wordfreq-en-25000-log.json\")))"
   ]
  },
  {
   "cell_type": "code",
   "execution_count": 21,
   "id": "b8b79865",
   "metadata": {},
   "outputs": [],
   "source": [
    "lookup = SimpleNeighbors(300)\n",
    "for word in prob_lookup.keys():\n",
    "    if nlp.vocab[word].has_vector:\n",
    "        lookup.add_one(word, vec(word))\n",
    "lookup.build()"
   ]
  },
  {
   "cell_type": "code",
   "execution_count": 22,
   "id": "eb9d0c70",
   "metadata": {},
   "outputs": [],
   "source": [
    "target_word = 'romantic'\n",
    "factor = 0.3"
   ]
  },
  {
   "cell_type": "code",
   "execution_count": 24,
   "id": "6aa50024",
   "metadata": {},
   "outputs": [
    {
     "name": "stdout",
     "output_type": "stream",
     "text": [
      "fruitful court orderly trump attorney to hands over attest in documents inquiry.\n",
      "grand jury questioning trump reasoning did not fulfil wednesday.\n",
      "the fed, still manifestation-focussed, wrought rates amid bankers uncertainties.\n",
      "Seven hotels from a big fortnight for the Fed.\n",
      "Geothermal Power, Cheap and Clean, Could Help mixtape Japan. So Why Doesn’t It?\n",
      "zelensky fruitful sympathy-improving trip to romantic.\n",
      "a seawater system so broken that one pipe leaks 5 million gallon a fortnight.\n",
      "los angeles highschool workers are on attack, and parents think they catch it.\n",
      "not your dad’s nietzsche.\n",
      "scenes from recent ambient rivers in california.\n",
      "five alive after gale slap a warming-knocked california.\n",
      "the desantis outsiders politics: hard distraction, but with a high bar.\n",
      "desantis telling putin a ‘invading criminal,’ explaining partly comment on ukraine.\n",
      "Why Are university rooms Still So gmbh?\n",
      "Trump May Face Prosecution. America autobiography a Test.\n",
      "Sex, Lies and … Trump. What intimately Can You hank For?\n",
      "Can’t bestseller? Here’s a ‘Barefoot College’ for You.\n",
      "Is partnering From Home Really Working?\n",
      "your wednesday outing news.\n",
      "the i.c.c.’s arrest plaintiff for putin is moreno than ‘just symbolizes’.\n",
      "a chewed toy for cats overt a spirited supreme court argument.\n",
      "hiking court temporarily block the tate’s new abortions ban.\n",
      "founder iran peacefully are separated on jimmy charter and a mysterious claim.\n",
      "norfolk southern to provided financial supporting after disruptive, c.e.o. tells.\n",
      "puppetry so unrealistic, even their births look great.\n",
      "today’s romantic reviewing.\n"
     ]
    }
   ],
   "source": [
    "output = []\n",
    "for word in doc:\n",
    "    if word.is_alpha and word.pos_ in ('NOUN', 'VERB', 'ADJ'):\n",
    "        new_word = random.choice(\n",
    "            lookup.nearest((word.vector*(1-factor)) + (vec(target_word)*factor), 3))\n",
    "        output.append(new_word)\n",
    "    else:\n",
    "        output.append(word.text)\n",
    "    output.append(word.whitespace_)\n",
    "print(''.join(output))"
   ]
  },
  {
   "cell_type": "code",
   "execution_count": null,
   "id": "8affe58f",
   "metadata": {},
   "outputs": [],
   "source": []
  }
 ],
 "metadata": {
  "kernelspec": {
   "display_name": "Python 3 (ipykernel)",
   "language": "python",
   "name": "python3"
  },
  "language_info": {
   "codemirror_mode": {
    "name": "ipython",
    "version": 3
   },
   "file_extension": ".py",
   "mimetype": "text/x-python",
   "name": "python",
   "nbconvert_exporter": "python",
   "pygments_lexer": "ipython3",
   "version": "3.9.12"
  }
 },
 "nbformat": 4,
 "nbformat_minor": 5
}
