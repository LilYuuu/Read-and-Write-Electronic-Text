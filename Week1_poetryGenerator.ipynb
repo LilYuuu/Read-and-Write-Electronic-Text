{
 "cells": [
  {
   "cell_type": "markdown",
   "id": "0ec02b54",
   "metadata": {},
   "source": [
    "# RWET: Week 1 - Poetry Generator"
   ]
  },
  {
   "cell_type": "markdown",
   "id": "81032d69",
   "metadata": {},
   "source": [
    "This poetry generator is based on *Taroko Gorge*. [Original](http://nickm.com/taroko_gorge/) by [Nick Montfort](http://nickm.com/)."
   ]
  },
  {
   "cell_type": "code",
   "execution_count": 1,
   "id": "da178831",
   "metadata": {},
   "outputs": [],
   "source": [
    "import random"
   ]
  },
  {
   "cell_type": "code",
   "execution_count": 2,
   "id": "34804484",
   "metadata": {},
   "outputs": [],
   "source": [
    "countable = ['star', 'marshmallow', 'balloon', 'cricket', 'watermellon', 'boat', 'raindrop', 'kite']\n",
    "uncountable = ['the wind', 'skin', 'water', 'sweat', 'soda', 'campfire', 'the moon', 'home']\n",
    "transitive = ['await', 'grasp', 'hear', 'hug', 'touch', 'create', 'approach', 'leave']\n",
    "imperative = ['dream about', 'run after', 'taste', 'embrace', 'ask', 'gaze into', 'look for', 'drink']\n",
    "intransitive = ['murmur', 'whisper', 'breathe', 'run', 'glisten', 'melt', 'sizzle', 'fall']\n",
    "adjectives = ['fluffy', 'glittering', 'quiet', 'shy', 'rosy', 'transparent', 'light', 'hesitant', 'ordinary']"
   ]
  },
  {
   "cell_type": "code",
   "execution_count": 3,
   "id": "ae1fb8e0",
   "metadata": {},
   "outputs": [],
   "source": [
    "def path():\n",
    "    plural = random.sample([\"s\", \"\"], k=2)\n",
    "    words = random.choice(countable)\n",
    "    words += plural[0] + \" \" + random.choice(transitive) + plural[1]\n",
    "    words += \" the \" + random.choice(countable) + random.choice([\"s\", \"\"]) + \".\"\n",
    "    return words.capitalize()"
   ]
  },
  {
   "cell_type": "code",
   "execution_count": 4,
   "id": "110f572e",
   "metadata": {},
   "outputs": [],
   "source": [
    "def cave():\n",
    "    return \"  \" + random.choice(imperative) + \" \" + \\\n",
    "        \" \".join(random.sample(adjectives, random.randrange(1, 4))) + \" —\""
   ]
  },
  {
   "cell_type": "code",
   "execution_count": 5,
   "id": "8ccf970f",
   "metadata": {},
   "outputs": [],
   "source": [
    "def site():\n",
    "    if random.randrange(2) == 0:\n",
    "        words = random.choice(countable) + \"s \" + random.choice(intransitive) + \".\"\n",
    "    else:\n",
    "        words = random.choice(uncountable) + \" \" + random.choice(intransitive) + \"s\" + \".\"\n",
    "    return words.capitalize()"
   ]
  },
  {
   "cell_type": "code",
   "execution_count": 6,
   "id": "7a4bf1e8",
   "metadata": {},
   "outputs": [
    {
     "name": "stdout",
     "output_type": "stream",
     "text": [
      "Raindrops approach the stars.\n",
      "Skin murmurs.\n",
      "Kites murmur.\n",
      "Crickets approach the balloon.\n",
      "\n",
      "  gaze into light ordinary rosy —\n",
      "\n",
      "Kite leaves the kites.\n",
      "Campfire murmurs.\n",
      "Crickets touch the balloon.\n",
      "\n",
      "  gaze into hesitant quiet shy —\n",
      "\n",
      "Kite creates the boats.\n",
      "Marshmallows breathe.\n",
      "Campfire whispers.\n",
      "Kites hear the balloon.\n",
      "\n",
      "  ask quiet fluffy glittering —\n",
      "\n",
      "Raindrops approach the balloons.\n",
      "Watermellons await the star.\n",
      "\n",
      "  look for fluffy —\n",
      "\n",
      "Kites leave the raindrop.\n",
      "Marshmallows run.\n",
      "Marshmallows grasp the crickets.\n",
      "\n",
      "  look for rosy —\n",
      "\n"
     ]
    }
   ],
   "source": [
    "stanza_count = 5\n",
    "for repeat in range(stanza_count):\n",
    "    line_count = random.randrange(3, 6)\n",
    "    for i in range(line_count):\n",
    "#         print(i)\n",
    "        if i == 0:\n",
    "#             print(\"Path: \" + path())\n",
    "            print(path())\n",
    "        elif i == line_count - 2:\n",
    "#             print(\"Path: \" + path())\n",
    "            print(path())\n",
    "        elif i == line_count - 1:\n",
    "            print()\n",
    "#             print(\"Cave: \" + cave())\n",
    "            print(cave())\n",
    "            print()\n",
    "        else:\n",
    "#             print(\"Site: \" + site())\n",
    "            print(site())"
   ]
  }
 ],
 "metadata": {
  "kernelspec": {
   "display_name": "Python 3 (ipykernel)",
   "language": "python",
   "name": "python3"
  },
  "language_info": {
   "codemirror_mode": {
    "name": "ipython",
    "version": 3
   },
   "file_extension": ".py",
   "mimetype": "text/x-python",
   "name": "python",
   "nbconvert_exporter": "python",
   "pygments_lexer": "ipython3",
   "version": "3.9.12"
  }
 },
 "nbformat": 4,
 "nbformat_minor": 5
}
