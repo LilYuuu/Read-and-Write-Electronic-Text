{
 "cells": [
  {
   "cell_type": "markdown",
   "id": "bcff7a44",
   "metadata": {},
   "source": [
    "# RWET: Week 5 - Genre and Poetic Form"
   ]
  },
  {
   "cell_type": "markdown",
   "id": "b8010274",
   "metadata": {},
   "source": [
    "This assignment took the form of a villanelle, which is a French verse form consisting of five three-line stanzas and a final quatrain, with the first and third lines of the first stanza repeating alternately in the following stanzas. These two refrain lines form the final couplet in the quatrain."
   ]
  },
  {
   "cell_type": "markdown",
   "id": "af9d2dbf",
   "metadata": {},
   "source": [
    "The text source comes from the two poems by Sylvia Plath, *Mary's Song*, and *Lady Lazarus*, which discussed the theme of deaths with a background of the Holocaust."
   ]
  },
  {
   "cell_type": "code",
   "execution_count": 1,
   "id": "9fc9c255",
   "metadata": {},
   "outputs": [],
   "source": [
    "noun = [\"lamb\", \"fire\", \"Jews\", \"palls\", \"cicatrix\", \"ash\", \"Nazi lampshade\", \"Jew linen\", \"breath\", \"flesh\", \"pearls\", \"scars\"]\n",
    "verb = [\"sacrificing\", \"cracking\", \"melting\", \"ousting\", \"floating\", \"glowing\", \"terrifying\", \"vanishing\", \"poking\", \"stirring\", \"settling\"]\n",
    "adj = [\"incandescent\", \"burnt-out\", \"featureless\", \"sour\", \"sticky\", \"theatrical\"]"
   ]
  },
  {
   "cell_type": "code",
   "execution_count": 2,
   "id": "41c608b4",
   "metadata": {
    "scrolled": true
   },
   "outputs": [],
   "source": [
    "import tracery\n",
    "from tracery.modifiers import base_english"
   ]
  },
  {
   "cell_type": "code",
   "execution_count": 3,
   "id": "7129fabf",
   "metadata": {},
   "outputs": [],
   "source": [
    "rules = {\n",
    "    \"origin1\": \"#adj.capitalize# #noun# #verb#\",\n",
    "    \"origin2\": \"#adj# #noun# #verb#\",\n",
    "    \"adj\": adj,\n",
    "    \"noun\": noun,\n",
    "    \"verb\": verb\n",
    "}"
   ]
  },
  {
   "cell_type": "code",
   "execution_count": 4,
   "id": "965daa1d",
   "metadata": {},
   "outputs": [],
   "source": [
    "grammar = tracery.Grammar(rules)\n",
    "grammar.add_modifiers(base_english)"
   ]
  },
  {
   "cell_type": "code",
   "execution_count": 5,
   "id": "9794d956",
   "metadata": {},
   "outputs": [
    {
     "name": "stdout",
     "output_type": "stream",
     "text": [
      "I have done it again\n",
      "Like incandescent scars vanishing\n",
      "The first time it happened I was ten\n",
      "\n",
      "Sticky fire melting\n",
      "Theatrical ash glowing\n",
      "I have done it again\n",
      "\n",
      "Burnt-out breath vanishing\n",
      "Sticky lamb poking\n",
      "The first time it happened I was ten\n",
      "\n",
      "Incandescent palls floating\n",
      "Theatrical Jew linen ousting\n",
      "I have done it again\n",
      "\n",
      "Burnt-out Nazi lampshade vanishing\n",
      "Incandescent palls terrifying\n",
      "The first time it happened I was ten\n",
      "\n",
      "Like sticky pearls settling\n",
      "Like sour Nazi lampshade stirring\n",
      "I have done it again\n",
      "The first time it happened I was ten\n",
      "\n"
     ]
    }
   ],
   "source": [
    "for stanza in range(6):\n",
    "#     print(stanza)\n",
    "    if stanza == 0:\n",
    "        print(\"I have done it again\")\n",
    "        print(\"Like \" + grammar.flatten(\"#origin2#\"))\n",
    "        print(\"The first time it happened I was ten\")\n",
    "    elif stanza == 1 or stanza == 3:\n",
    "        print(grammar.flatten(\"#origin1#\"))\n",
    "        print(grammar.flatten(\"#origin1#\"))\n",
    "        print(\"I have done it again\")\n",
    "    elif stanza == 2 or stanza == 4:\n",
    "        print(grammar.flatten(\"#origin1#\"))\n",
    "        print(grammar.flatten(\"#origin1#\"))\n",
    "        print(\"The first time it happened I was ten\")\n",
    "    else:\n",
    "        print(\"Like \"+ grammar.flatten(\"#origin2#\"))\n",
    "        print(\"Like \" + grammar.flatten(\"#origin2#\"))\n",
    "        print(\"I have done it again\")\n",
    "        print(\"The first time it happened I was ten\")\n",
    "    print(\"\")"
   ]
  },
  {
   "cell_type": "code",
   "execution_count": null,
   "id": "89e678f0",
   "metadata": {},
   "outputs": [],
   "source": []
  }
 ],
 "metadata": {
  "kernelspec": {
   "display_name": "Python 3 (ipykernel)",
   "language": "python",
   "name": "python3"
  },
  "language_info": {
   "codemirror_mode": {
    "name": "ipython",
    "version": 3
   },
   "file_extension": ".py",
   "mimetype": "text/x-python",
   "name": "python",
   "nbconvert_exporter": "python",
   "pygments_lexer": "ipython3",
   "version": "3.9.12"
  }
 },
 "nbformat": 4,
 "nbformat_minor": 5
}
